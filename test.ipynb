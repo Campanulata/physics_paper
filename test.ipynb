{
 "cells": [
  {
   "cell_type": "code",
   "execution_count": 4,
   "metadata": {},
   "outputs": [
    {
     "name": "stdout",
     "output_type": "stream",
     "text": [
      "整个匹配: my name is John\n",
      "第一个捕获组: my name is\n",
      "第二个捕获组: John\n",
      "整个匹配: Hello, my name is John\n",
      "命名捕获组 'greeting': Hello\n",
      "命名捕获组 'name': John\n"
     ]
    }
   ],
   "source": [
    "import re\n",
    "\n",
    "text = \"Hello, my name is John.\"\n",
    "\n",
    "# 使用非命名捕获组\n",
    "pattern = r\"(my name is) (\\w+)\"\n",
    "match = re.search(pattern, text)\n",
    "if match:\n",
    "    print(\"整个匹配:\", match.group(0))\n",
    "    print(\"第一个捕获组:\", match.group(1))\n",
    "    print(\"第二个捕获组:\", match.group(2))\n",
    "\n",
    "# 使用命名捕获组\n",
    "pattern_named = r\"(?P<greeting>Hello), my name is (?P<name>\\w+)\"\n",
    "match_named = re.search(pattern_named, text)\n",
    "if match_named:\n",
    "    print(\"整个匹配:\", match_named.group(0))\n",
    "    print(\"命名捕获组 'greeting':\", match_named.group(\"greeting\"))\n",
    "    print(\"命名捕获组 'name':\", match_named.group(\"name\"))"
   ]
  },
  {
   "cell_type": "code",
   "execution_count": 5,
   "metadata": {},
   "outputs": [
    {
     "name": "stdout",
     "output_type": "stream",
     "text": [
      "题干: 在太空实验室中可以利用匀速圆周运动测量小球质量。如图所示, 不可伸长的轻绳一端固定于 $O$ 点,\n",
      "另一端系一待测小球, 使其绕 $O$ 做匀速圆周运动, 用力传感器测得绳上的拉力为 $F$,\n",
      "用停表测得小球转过 $n$ 圈所用的时间为 $t$, 用刻度尺测得 $O$ 点到球心的距离为圆周运动的半径 $R$ 。\n",
      "下列说法正确的是 ( )\n",
      "选项A: 圆周运动轨道可处于任意平面内\n",
      "选项B: 小球的质量为 $\\frac{F R t^{2}}{4 \\pi^{2} n^{2}}$\n",
      "选项C: 若误将 $\\mathrm{n}-1$ 圈记作 $n$ 圈, 则所得质量偏大\n",
      "选项D: 若测 $R$ 时末计入小球半径, 则所得质量偏小\n",
      "答案: A\n",
      "详解: A. 空间站内的物体都处于完全失重状态, 可知圆周运动的轨道可处于任意平面内, 故 A 正确;\n",
      "B. 根据公式: $F=m \\omega^{2} R$, $\\omega=\\frac{2 \\pi n}{t}$ 解得小球质量\n",
      "\n"
     ]
    }
   ],
   "source": [
    "import re\n",
    "\n",
    "\"\"\"\n",
    "请用Python写一段脚本，脚本功能是用正则表达式匹配8个变量：序号、题干、选项A、选项B、选项C、选项D、答案、详解。其中每个变量都可能由多行组成。我的题目格式为：\n",
    "1. 在太空实验室中可以利用匀速圆周运动测量小球质量。如图所示, 不可伸长的轻绳一端固定于 $O$ 点, 另 一端系一待测小球, 使其绕 $O$ 做匀速圆周运动, 用力传感器测得绳上的拉力为 $F$, 用停表测得小球转过 $n$ 圈 所用的时间为 $t$, 用刻度尺测得 $O$ 点到球心的距离为圆周运动的半径 $R$ 。下列说法正确的是 ( )\n",
    "![](https://raw.githubusercontent.com/Campanulata/physics_paper_img/master/img/202307162244662.png)\n",
    "A. 圆周运动轨道可处于任意平面内\n",
    "B. 小球的质量为 $\\frac{F R t^{2}}{4 \\pi^{2} n^{2}}$\n",
    "C. 若误将 $\\mathrm{n}-1$ 圈记作 $n$ 圈, 则所得质量偏大\n",
    "D. 若测 $R$ 时末计入小球半径, 则所得质量偏小\n",
    "【答案】A\n",
    "【详解】A. 空间站内的物体都处于完全失重状态, 可知圆周运动的轨道可处于任意平面内, 故 A 正确; B. 根据\n",
    "$$\n",
    "\\begin{gathered}\n",
    "F=m \\omega^{2} R \\\\\n",
    "\\omega=\\frac{2 \\pi n}{t}\n",
    "\\end{gathered}\n",
    "$$\n",
    "解得小球质量\n",
    "\"\"\"\n",
    "\n",
    "# 示例题目文本\n",
    "import re\n",
    "\n",
    "# 示例题目文本\n",
    "question_text = \"\"\"\n",
    "11. 在太空实验室中可以利用匀速圆周运动测量小球质量。如图所示, 不可伸长的轻绳一端固定于 $O$ 点,\n",
    "另一端系一待测小球, 使其绕 $O$ 做匀速圆周运动, 用力传感器测得绳上的拉力为 $F$,\n",
    "用停表测得小球转过 $n$ 圈所用的时间为 $t$, 用刻度尺测得 $O$ 点到球心的距离为圆周运动的半径 $R$ 。\n",
    "下列说法正确的是 ( )\n",
    "A. 圆周运动轨道可处于任意平面内\n",
    "B. 小球的质量为 $\\\\frac{F R t^{2}}{4 \\\\pi^{2} n^{2}}$\n",
    "C. 若误将 $\\\\mathrm{n}-1$ 圈记作 $n$ 圈, 则所得质量偏大\n",
    "D. 若测 $R$ 时末计入小球半径, 则所得质量偏小\n",
    "【答案】A\n",
    "【详解】A. 空间站内的物体都处于完全失重状态, 可知圆周运动的轨道可处于任意平面内, 故 A 正确;\n",
    "B. 根据公式: $F=m \\\\omega^{2} R$, $\\\\omega=\\\\frac{2 \\\\pi n}{t}$ 解得小球质量\n",
    "\"\"\"\n",
    "\n",
    "# 定义正则表达式模式\n",
    "pattern = r\"(?P<题干>[0-9]+\\..+?)\\n(?P<选项A>A\\..+?)\\n(?P<选项B>B\\..+?)\\n(?P<选项C>C\\..+?)\\n(?P<选项D>D\\..+?)\\n【答案】(?P<答案>.+)\\n【详解】(?P<详解>.+)\"\n",
    "\n",
    "# 使用正则表达式进行匹配\n",
    "match = re.search(pattern, question_text, re.DOTALL)\n",
    "\n",
    "# 提取匹配的变量\n",
    "if match:\n",
    "    题干 = match.group(\"题干\")\n",
    "    选项A = match.group(\"选项A\")[3:]  # 去除选项开头的字母和点\n",
    "    选项B = match.group(\"选项B\")[3:]\n",
    "    选项C = match.group(\"选项C\")[3:]\n",
    "    选项D = match.group(\"选项D\")[3:]\n",
    "    答案 = match.group(\"答案\")\n",
    "    详解 = match.group(\"详解\")\n",
    "\n",
    "    # 去除题干的序号\n",
    "    题干 = re.sub(r\"^[0-9]+\\.\", \"\", 题干).strip()\n",
    "    # 打印提取的变量\n",
    "    print(\"题干:\", 题干)\n",
    "    print(\"选项A:\", 选项A)\n",
    "    print(\"选项B:\", 选项B)\n",
    "    print(\"选项C:\", 选项C)\n",
    "    print(\"选项D:\", 选项D)\n",
    "    print(\"答案:\", 答案)\n",
    "    print(\"详解:\", 详解)\n",
    "else:\n",
    "    print(\"未找到匹配\")"
   ]
  },
  {
   "cell_type": "code",
   "execution_count": null,
   "metadata": {},
   "outputs": [],
   "source": []
  }
 ],
 "metadata": {
  "kernelspec": {
   "display_name": "base",
   "language": "python",
   "name": "python3"
  },
  "language_info": {
   "codemirror_mode": {
    "name": "ipython",
    "version": 3
   },
   "file_extension": ".py",
   "mimetype": "text/x-python",
   "name": "python",
   "nbconvert_exporter": "python",
   "pygments_lexer": "ipython3",
   "version": "3.9.13"
  },
  "orig_nbformat": 4
 },
 "nbformat": 4,
 "nbformat_minor": 2
}
